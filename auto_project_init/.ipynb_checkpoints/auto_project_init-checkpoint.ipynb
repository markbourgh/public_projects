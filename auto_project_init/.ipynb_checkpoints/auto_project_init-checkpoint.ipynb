{
 "cells": [
  {
   "cell_type": "markdown",
   "metadata": {},
   "source": [
    "## Small program to create folder and base text file within an existing repository\n",
    "\n",
    "* input chromedriver path\n",
    "* input username and password\n",
    "* input name of existing repository\n",
    "* pull from github through your git client and the folder will appear locally\n"
   ]
  },
  {
   "cell_type": "code",
   "execution_count": 78,
   "metadata": {},
   "outputs": [],
   "source": [
    "## load packages\n",
    "from selenium import webdriver\n",
    "from selenium.webdriver.common.keys import Keys\n",
    "\n",
    "## chromedriver path\n",
    "chromedriver_path = 'your chromedriver path'\n",
    "\n",
    "## - input username and password \n",
    "## - uncomment the correct project type\n",
    "## - input folder and file name\n",
    "\n",
    "username = 'your username'\n",
    "password = \"your password\"\n",
    "\n",
    "repository = 'your existing repository'\n",
    "\n",
    "folder_name = 'your folder name'\n",
    "file_name = 'name of standard text file'\n",
    "\n",
    "## define function\n",
    "\n",
    "def create(repository_, folder_name_, file_name_):\n",
    "    browser = webdriver.Chrome(executable_path=chromedriver_path)\n",
    "    browser.get('http://github.com/login')\n",
    "    browser.find_elements_by_xpath(\"//input[@name='login']\")[0].send_keys(username)\n",
    "    browser.find_elements_by_xpath(\"//input[@name='password']\")[0].send_keys(password)\n",
    "    browser.find_elements_by_xpath(\"//input[@name='commit']\")[0].click()\n",
    "    browser.get('http://github.com/'+username+'/'+repository+'/new/master')\n",
    "    browser.find_element_by_css_selector('#js-repo-pjax-container > div.container-xl.clearfix.new-discussion-timeline.p-0 > div > div > form.js-blob-form > div > div.breadcrumb.d-flex.flex-shrink-0.flex-items-center.px-3.px-sm-6.px-lg-3 > span > input').send_keys(''+folder_name+'/'+file_name+'')\n",
    "    browser.find_element_by_xpath('/html/body/div[9]/div/div/div/div[1]/div/div/button[1]').click()\n",
    "    browser.find_element_by_xpath('//*[@id=\"submit-file\"]').click()\n",
    "\n",
    "## execute function\n",
    "\n",
    "create(repository, folder_name, file_name)"
   ]
  }
 ],
 "metadata": {
  "kernelspec": {
   "display_name": "Python 3",
   "language": "python",
   "name": "python3"
  },
  "language_info": {
   "codemirror_mode": {
    "name": "ipython",
    "version": 3
   },
   "file_extension": ".py",
   "mimetype": "text/x-python",
   "name": "python",
   "nbconvert_exporter": "python",
   "pygments_lexer": "ipython3",
   "version": "3.7.3"
  }
 },
 "nbformat": 4,
 "nbformat_minor": 2
}
